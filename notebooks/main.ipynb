{
 "cells": [
  {
   "cell_type": "code",
   "execution_count": null,
   "id": "31b28c0b",
   "metadata": {},
   "outputs": [],
   "source": [
    "import omegaconf\n",
    "import hydra\n",
    "import dotenv"
   ]
  },
  {
   "cell_type": "code",
   "execution_count": null,
   "id": "3a13c92e",
   "metadata": {
    "lines_to_next_cell": 1
   },
   "outputs": [],
   "source": [
    "@hydra.main(config_path=\"configs/\", config_name=\"config\", version_base=\"1.3\")\n",
    "def main(cfg: omegaconf.DictConfig) -> None:\n",
    "    dotenv.load_dotenv(dotenv_path=\".env\", override=True)\n",
    "    ..."
   ]
  },
  {
   "cell_type": "code",
   "execution_count": null,
   "id": "d73443f7",
   "metadata": {},
   "outputs": [],
   "source": [
    "if __name__ == \"__main__\":\n",
    "    main()"
   ]
  }
 ],
 "metadata": {
  "jupytext": {
   "cell_metadata_filter": "-all",
   "main_language": "python",
   "notebook_metadata_filter": "-all"
  }
 },
 "nbformat": 4,
 "nbformat_minor": 5
}
