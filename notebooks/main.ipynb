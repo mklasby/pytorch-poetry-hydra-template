{
 "cells": [
  {
   "cell_type": "code",
   "execution_count": null,
   "id": "fd705a73",
   "metadata": {},
   "outputs": [],
   "source": [
    "import omegaconf\n",
    "from omegaconf import OmegaConf\n",
    "import hydra\n",
    "import dotenv"
   ]
  },
  {
   "cell_type": "code",
   "execution_count": null,
   "id": "42599026",
   "metadata": {},
   "outputs": [],
   "source": [
    "@hydra.main(config_path=\"configs/\", config_name=\"config\", version_base=\"1.3\")\n",
    "def main(cfg: omegaconf.DictConfig) -> None:\n",
    "    OmegaConf.resolve(cfg)\n",
    "    print(cfg)"
   ]
  },
  {
   "cell_type": "code",
   "execution_count": null,
   "id": "8dc39842",
   "metadata": {},
   "outputs": [],
   "source": [
    "if __name__ == \"__main__\":\n",
    "    # Override env vars using .env BEFORE initializating hydra config!\n",
    "    dotenv.load_dotenv(dotenv_path=\".env\", override=True)\n",
    "    main()"
   ]
  }
 ],
 "metadata": {
  "jupytext": {
   "cell_metadata_filter": "-all",
   "main_language": "python",
   "notebook_metadata_filter": "-all"
  }
 },
 "nbformat": 4,
 "nbformat_minor": 5
}
